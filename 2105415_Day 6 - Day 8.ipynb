{
 "cells": [
  {
   "cell_type": "markdown",
   "id": "24a03fb9",
   "metadata": {},
   "source": [
    "                                                  Python Tasks – Day6\n",
    "      \n",
    " Q1. Write down 10 projects ideas you want to implement using python. \n",
    " \n",
    " Ans:- \n",
    " a) Dice Rolling simulator\n",
    " \n",
    " b)Number Guessing\n",
    " \n",
    " c)Railway Management\n",
    " \n",
    " d)Bank Management\n",
    " \n",
    " e)Shopping Mall Management\n",
    " \n",
    " f)Tic-Tac-Toe\n",
    " \n",
    " g)Snake game\n",
    " \n",
    " h)Desktop Notifier\n",
    " \n",
    " i)Convert emoji into text\n",
    " \n",
    " j) Twitter Bot\n",
    " \n",
    " \n",
    "Q2. Create at list 5 objects using list, dictionary, it will be good if you store realistic data   \n",
    "\n",
    "Ans:- Lists\n"
   ]
  },
  {
   "cell_type": "code",
   "execution_count": 1,
   "id": "5cad5a95",
   "metadata": {},
   "outputs": [
    {
     "name": "stdout",
     "output_type": "stream",
     "text": [
      "['BMW', 'Tata', 'Hyuindai']\n",
      "['Oreo', 'Parle G', 'Sunfeast']\n",
      "['Choclate', 'Britannia']\n",
      "['HP', 'Dell', 'Lenovo', 'Asus']\n",
      "['Samsung', 'Appple', 'Oppo', 'Vivo']\n"
     ]
    }
   ],
   "source": [
    "cars=['BMW','Tata','Hyuindai']\n",
    "Biscuits=['Oreo','Parle G','Sunfeast']\n",
    "Cakes=['Choclate','Britannia']\n",
    "Laptops=['HP','Dell','Lenovo','Asus']\n",
    "Mobiles=['Samsung','Appple','Oppo','Vivo']\n",
    "print(cars)\n",
    "print(Biscuits)\n",
    "print(Cakes)\n",
    "print(Laptops)\n",
    "print(Mobiles)\n"
   ]
  },
  {
   "cell_type": "code",
   "execution_count": 2,
   "id": "c54a456c",
   "metadata": {},
   "outputs": [
    {
     "name": "stdout",
     "output_type": "stream",
     "text": [
      "{'Brand': 'BMW', 'Model': 'GT Coupe', 'Price': 5000000}\n",
      "{'Company': 'Cadbury', 'flavour': 'Choclate'}\n",
      "{'Company': 'Britannia', 'flavour': 'Choclate'}\n",
      "{'Brand': 'HP', 'Model': 'Pavillion', 'Price': 75000}\n",
      "{'Brand': 'Samsung', 'Model': 'Galaxy', 'Price': 30000}\n"
     ]
    }
   ],
   "source": [
    "cars={'Brand':'BMW','Model':'GT Coupe','Price':5000000}\n",
    "Biscuits={'Company':'Cadbury','flavour':'Choclate'}\n",
    "Cakes={'Company':'Britannia','flavour':'Choclate'}\n",
    "Laptops={'Brand':'HP','Model':'Pavillion','Price':75000}\n",
    "Mobiles={'Brand':'Samsung','Model':'Galaxy','Price':30000}\n",
    "\n",
    "print(cars)\n",
    "print(Biscuits)\n",
    "print(Cakes)\n",
    "print(Laptops)\n",
    "print(Mobiles)"
   ]
  },
  {
   "cell_type": "markdown",
   "id": "d7f3d7c7",
   "metadata": {},
   "source": [
    "Q3. What is duck typing in python, what are Dunder or special methods?  \n",
    "\n",
    "Ans:- \n",
    "\n",
    "Duck typing is a concept related to dynamic typing, where the type or the class of an object is less important than the methods it defines.\n",
    "\n",
    "Dunder methods are methods that allow instances of a class to interact with the built-in functions and operators of the language."
   ]
  },
  {
   "cell_type": "markdown",
   "id": "ea5da219",
   "metadata": {},
   "source": [
    "Q4. What are operators? How many types of operators are there in python? \n",
    "\n",
    "Ans:- \n",
    "\n",
    "Operators are special symbols that designate that some sort of computation should be performed. The values that an operator acts on are called operands.\n",
    "\n",
    "   There are 7 operators and are divide in the following groups:\n",
    "   \n",
    "   1) Arithmetic operators\n",
    "   \n",
    "   2) Assignment operators\n",
    "   \n",
    "   3) Comparison operators\n",
    "   \n",
    "   4) Logical operators\n",
    "   \n",
    "   5) Identity operators\n",
    "   \n",
    "   6) Membership operators\n",
    "   \n",
    "   7) Bitwise operators"
   ]
  },
  {
   "cell_type": "markdown",
   "id": "31cda0cf",
   "metadata": {},
   "source": [
    "\n",
    "                                                      Python Tasks – Day8\n",
    "                                                      \n",
    " Q1. What are the two values of the Boolean data type? How do you write them? \n",
    " \n",
    " Ans:- \n",
    " \n",
    "It has two possible values: True and False, which are special versions of 1 and 0 respectively and behave as such in arithmetic contexts.\n",
    " 'True' and 'False' are written in title case.\n",
    " \n",
    " Q2. What are the three Boolean operators? \n",
    " \n",
    " Ans:- \n",
    " \n",
    " The three Boolean operators are:\n",
    " \n",
    "    1) AND\n",
    "    \n",
    "    2) OR\n",
    "    \n",
    "    3) NOT\n",
    "    \n",
    " Q3. Write out the truth tables of each Boolean operator (that is, every possible combination of Boolean values for the operator and what they evaluate to). \n",
    " \n",
    "Ans:- \n",
    "\n",
    "Truth table of AND:\n",
    "\n",
    "       A   B   F\n",
    "       ___________\n",
    "       \n",
    "       0   0   0\n",
    "       0   1   0\n",
    "       1   0   0\n",
    "       1   1   1\n",
    "       \n",
    "\n",
    "    Truth table of OR:\n",
    "   \n",
    "       A   B   F\n",
    "    _______________\n",
    "       0   0   0\n",
    "       0   1   1\n",
    "       1   0   1\n",
    "       1   1   1\n",
    "       \n",
    "    Truth table of NOT:\n",
    "   \n",
    "         A   A'\n",
    "       __________\n",
    "         0   1\n",
    "         1   0\n",
    "         \n",
    "         \n",
    " Q4.  What do the following expressions evaluate to? \n",
    " \n",
    " Ans:-\n",
    "        "
   ]
  },
  {
   "cell_type": "code",
   "execution_count": 3,
   "id": "9ffc3463",
   "metadata": {},
   "outputs": [
    {
     "data": {
      "text/plain": [
       "False"
      ]
     },
     "execution_count": 3,
     "metadata": {},
     "output_type": "execute_result"
    }
   ],
   "source": [
    "(5 > 4) and (3 == 5) "
   ]
  },
  {
   "cell_type": "code",
   "execution_count": 4,
   "id": "1e9ec999",
   "metadata": {},
   "outputs": [
    {
     "data": {
      "text/plain": [
       "False"
      ]
     },
     "execution_count": 4,
     "metadata": {},
     "output_type": "execute_result"
    }
   ],
   "source": [
    "not (5 > 4) "
   ]
  },
  {
   "cell_type": "code",
   "execution_count": 5,
   "id": "74e84387",
   "metadata": {},
   "outputs": [
    {
     "data": {
      "text/plain": [
       "True"
      ]
     },
     "execution_count": 5,
     "metadata": {},
     "output_type": "execute_result"
    }
   ],
   "source": [
    "(5 > 4) or (3 == 5) "
   ]
  },
  {
   "cell_type": "code",
   "execution_count": 6,
   "id": "d3ac2583",
   "metadata": {},
   "outputs": [
    {
     "data": {
      "text/plain": [
       "False"
      ]
     },
     "execution_count": 6,
     "metadata": {},
     "output_type": "execute_result"
    }
   ],
   "source": [
    "not ((5 > 4) or (3 == 5)) "
   ]
  },
  {
   "cell_type": "code",
   "execution_count": 7,
   "id": "54d1cddc",
   "metadata": {},
   "outputs": [
    {
     "data": {
      "text/plain": [
       "False"
      ]
     },
     "execution_count": 7,
     "metadata": {},
     "output_type": "execute_result"
    }
   ],
   "source": [
    "(True and True) and (True == False) "
   ]
  },
  {
   "cell_type": "code",
   "execution_count": 9,
   "id": "31ee1b0a",
   "metadata": {},
   "outputs": [
    {
     "data": {
      "text/plain": [
       "True"
      ]
     },
     "execution_count": 9,
     "metadata": {},
     "output_type": "execute_result"
    }
   ],
   "source": [
    "(not False) or (not True) "
   ]
  },
  {
   "cell_type": "markdown",
   "id": "1c48e39c",
   "metadata": {},
   "source": [
    "Q5.  What are the six comparison operators ?\t \n",
    "\n",
    "Ans:- \n",
    "\n",
    "i) == (Equal to)\n",
    "\n",
    "ii)!= (Not Equal to)\n",
    "\n",
    "iii)> (greater than)\n",
    "\n",
    "iv) < (less than)\n",
    "\n",
    "v) >= (greater than equal to)\n",
    "\n",
    "vi) <= (less than equal to)\n",
    "\n",
    "\n",
    "Q6. What is the difference between the equal to operator and\t the assignment operator? \n",
    "\n",
    "Ans:- \n",
    "\n",
    " In programming = is an assignment operator, which means that it assigns a value to a variable.\n",
    " The equality operator(==) is one of the many comparison operators used in logical and conditional statements. The equal to operator returns True or False.\n",
    " \n",
    "Q7.  Explain what a condition is and where you would use one. \n",
    "\n",
    "Ans:- \n",
    "\n",
    "Conditional statements or conditions are fundamental programming constructs that allow you to control the flow of your program based on conditions that you specify. They provide a way to make decisions in your program and execute different code based on those decisions.\n",
    "Conditions are used in if-else statements, in switch case and in loops as an loop termination condition.\n",
    "\n"
   ]
  },
  {
   "cell_type": "code",
   "execution_count": null,
   "id": "abc1f4e9",
   "metadata": {},
   "outputs": [],
   "source": []
  }
 ],
 "metadata": {
  "kernelspec": {
   "display_name": "Python 3 (ipykernel)",
   "language": "python",
   "name": "python3"
  },
  "language_info": {
   "codemirror_mode": {
    "name": "ipython",
    "version": 3
   },
   "file_extension": ".py",
   "mimetype": "text/x-python",
   "name": "python",
   "nbconvert_exporter": "python",
   "pygments_lexer": "ipython3",
   "version": "3.10.9"
  }
 },
 "nbformat": 4,
 "nbformat_minor": 5
}
