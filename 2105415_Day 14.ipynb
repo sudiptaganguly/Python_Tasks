{
 "cells": [
  {
   "cell_type": "code",
   "execution_count": 1,
   "id": "cfc4c75d",
   "metadata": {},
   "outputs": [
    {
     "name": "stdout",
     "output_type": "stream",
     "text": [
      "Enter number: 56\n",
      "Step-1 Sum: 11\n",
      "Step-2 Sum: 2\n"
     ]
    }
   ],
   "source": [
    "#                                                  Python Tasks – Day14 \n",
    "#1.Program to find the sum of digits of a number until the sum is reduced to 1 digit. \n",
    "number = int(input(\"Enter number: \"))\n",
    "\n",
    "# Finding sum\n",
    "total_sum = 0\n",
    "step = 1\n",
    "\n",
    "condition = True\n",
    "\n",
    "while condition:\n",
    "    \n",
    "    while number:\n",
    "        total_sum += number%10\n",
    "        number //= 10\n",
    "    \n",
    "    print(\"Step-%d Sum: %d\" %(step, total_sum))\n",
    "    number = total_sum\n",
    "    total_sum = 0\n",
    "    step += 1\n",
    "    condition = number > 9"
   ]
  },
  {
   "cell_type": "code",
   "execution_count": 2,
   "id": "6ce7d2f3",
   "metadata": {},
   "outputs": [
    {
     "name": "stdout",
     "output_type": "stream",
     "text": [
      "Enter the first number: 45\n",
      "Enter the second number: 89\n",
      "First Number is:  45\n",
      "Second Number is:  89\n",
      "HCF of the numbers is:  1\n",
      "LCM of the two numbers is:  4005\n"
     ]
    }
   ],
   "source": [
    "#2.Program to find LCM and HCF of two numbers. \n",
    "a = int(input(\"Enter the first number: \"))\n",
    "b = int(input(\"Enter the second number: \"))\n",
    "\n",
    "HCF = 1\n",
    "\n",
    "for i in range(2,a+1):\n",
    "    if(a%i==0 and b%i==0):\n",
    "        HCF = i\n",
    "\n",
    "print(\"First Number is: \",a)\n",
    "print(\"Second Number is: \",b)\n",
    "print(\"HCF of the numbers is: \",HCF)\n",
    "LCM = int((a*b)/(HCF))\n",
    "print(\"LCM of the two numbers is: \",LCM)"
   ]
  },
  {
   "cell_type": "code",
   "execution_count": 1,
   "id": "7c3b6629",
   "metadata": {},
   "outputs": [
    {
     "name": "stdout",
     "output_type": "stream",
     "text": [
      "Enter the value of n: 15\n",
      "cube of all numbers from 1 to 15 which are divisible by 3 are:\n",
      "27\n",
      "216\n",
      "729\n",
      "1728\n"
     ]
    }
   ],
   "source": [
    "#3.\n",
    "# Write a program to accept any number n and print the cube of all numbers from 1 to n which are divisible by 3.\n",
    "# Rewrite the program using a continue statement. \n",
    "\n",
    "n=int(input(\"Enter the value of n: \"))\n",
    "print(f\"cube of all numbers from 1 to {n} which are divisible by 3 are:\")\n",
    "for i in range(1,n):\n",
    "    if(i%3!=0):\n",
    "        continue\n",
    "    print(i**3)"
   ]
  },
  {
   "cell_type": "code",
   "execution_count": 1,
   "id": "16d62f1d",
   "metadata": {},
   "outputs": [
    {
     "name": "stdout",
     "output_type": "stream",
     "text": [
      "Enter the roll no. and marks of 10 strudents respectively:\n",
      "Student 1:\n",
      "   Enter roll No.: 1001\n",
      "   Enter marks of:\n",
      "     DSA = 98\n",
      "     OOP = 96\n",
      "     WT = 95\n",
      "Student 2:\n",
      "   Enter roll No.: 93\n",
      "Roll no. range not valid. Enter again.\n",
      "Student 2:\n",
      "   Enter roll No.: 1002\n",
      "   Enter marks of:\n",
      "     DSA = 94\n",
      "     OOP = 92\n",
      "     WT = 87\n",
      "Student 3:\n",
      "   Enter roll No.: 1003\n",
      "   Enter marks of:\n",
      "     DSA = 87\n",
      "     OOP = 83\n",
      "     WT = 86\n",
      "Student 4:\n",
      "   Enter roll No.: 1004\n",
      "   Enter marks of:\n",
      "     DSA = 78\n",
      "     OOP = 74\n",
      "     WT = 71\n",
      "Student 5:\n",
      "   Enter roll No.: 1005\n",
      "   Enter marks of:\n",
      "     DSA = 95\n",
      "     OOP = 92\n",
      "     WT = 90\n",
      "Student 6:\n",
      "   Enter roll No.: 1006\n",
      "   Enter marks of:\n",
      "     DSA = 65\n",
      "     OOP = 78\n",
      "     WT = 98\n",
      "Student 7:\n",
      "   Enter roll No.: 1007\n",
      "   Enter marks of:\n",
      "     DSA = 45\n",
      "     OOP = 90\n",
      "     WT = 76\n",
      "Student 8:\n",
      "   Enter roll No.: 1008\n",
      "   Enter marks of:\n",
      "     DSA = 54\n",
      "     OOP = 67\n",
      "     WT = 34\n",
      "Student 9:\n",
      "   Enter roll No.: 1009\n",
      "   Enter marks of:\n",
      "     DSA = 85\n",
      "     OOP = 46\n",
      "     WT = 82\n",
      "Student 10:\n",
      "   Enter roll No.: 1010\n",
      "   Enter marks of:\n",
      "     DSA = 34\n",
      "     OOP = 78\n",
      "     WT = 65\n",
      "\n",
      "\tRoll No.\tDSA\tOOP\tWT\tTotal\n",
      "\t1002\t\t94\t92\t87\t273\n",
      "\t1003\t\t87\t83\t86\t256\n",
      "\t1004\t\t78\t74\t71\t223\n",
      "\t1005\t\t95\t92\t90\t277\n",
      "\t1006\t\t65\t78\t98\t241\n",
      "\t1007\t\t45\t90\t76\t211\n",
      "\t1008\t\t54\t67\t34\t0\n",
      "\t1009\t\t85\t46\t82\t213\n",
      "\t1010\t\t34\t78\t65\t0\n"
     ]
    }
   ],
   "source": [
    "#4.Write a program to read roll numbers and marks of 10 students in 3 subjects. \n",
    "# The valid range for roll number is 1000-9999, if the roll number entered is not in this range, \n",
    "# the user should be asked to enter again. Calculate total marks of only those students who get \n",
    "# more than or equal to 40 marks in each subject. Count the number of students whose total is more than 200.\n",
    "# Print the roll number of the students who get the highest total. \n",
    "\n",
    "i=1\n",
    "print(\"Enter the roll no. and marks of 10 strudents respectively:\")\n",
    "roll=[]\n",
    "DSA=[]\n",
    "OOP=[]\n",
    "WT=[]\n",
    "total=[]\n",
    "while i<11:\n",
    "    print(f\"Student {i}:\")\n",
    "    r=int(input(\"   Enter roll No.: \"))\n",
    "    if(r<1000 or r>9999):\n",
    "        print(\"Roll no. range not valid. Enter again.\")\n",
    "        continue\n",
    "    print(\"   Enter marks of:\")\n",
    "    m1=int(input(\"     DSA = \"))\n",
    "    m2=int(input(\"     OOP = \"))\n",
    "    m3=int(input(\"     WT = \"))\n",
    "    roll.append(r)\n",
    "    DSA.append(m1)\n",
    "    OOP.append(m2)\n",
    "    WT.append(m3)\n",
    "    if(m1<40 or m2<40 or m3<40):\n",
    "        total.append(0)\n",
    "    else:\n",
    "        total.append(m1+m2+m3)\n",
    "    i+=1\n",
    "i=1\n",
    "print(\"\\n\\tRoll No.\\tDSA\\tOOP\\tWT\\tTotal\")\n",
    "while i<10:\n",
    "    print(f\"\\t{roll[i]}\\t\\t{DSA[i]}\\t{OOP[i]}\\t{WT[i]}\\t{total[i]}\")\n",
    "    i+=1\n"
   ]
  },
  {
   "cell_type": "code",
   "execution_count": 6,
   "id": "79bf42bb",
   "metadata": {},
   "outputs": [
    {
     "name": "stdout",
     "output_type": "stream",
     "text": [
      "Enter a number:98076\n",
      "Number of digits: 5\n"
     ]
    }
   ],
   "source": [
    "#5. Write a program to input a number and count the digits in it. \n",
    "# Use while loop and the program should work correctly for 0 also. \n",
    "num =int(input(\"Enter a number:\"))\n",
    "count = 0\n",
    "\n",
    "while num != 0:\n",
    "    num //= 10\n",
    "    count += 1\n",
    "\n",
    "print(\"Number of digits: \" + str(count))"
   ]
  },
  {
   "cell_type": "code",
   "execution_count": 8,
   "id": "6536651f",
   "metadata": {},
   "outputs": [
    {
     "name": "stdout",
     "output_type": "stream",
     "text": [
      "Enter a number:345\n",
      "Reversed Number: 543\n",
      "Doubled of the reverse number: 1086\n"
     ]
    }
   ],
   "source": [
    "#6. Write a program to enter a number and find the reverse of that number. Also display the double of the reverse number. \n",
    "# (don’t use string magic) \n",
    "num = int(input(\"Enter a number:\"))\n",
    "reversed_num = 0\n",
    "\n",
    "while num != 0:\n",
    "    digit = num % 10\n",
    "    reversed_num = reversed_num * 10 + digit\n",
    "    num //= 10\n",
    "\n",
    "print(\"Reversed Number: \" + str(reversed_num))\n",
    "print(\"Doubled of the reverse number:\",reversed_num*2)\n"
   ]
  },
  {
   "cell_type": "code",
   "execution_count": null,
   "id": "fa0b03d1",
   "metadata": {},
   "outputs": [],
   "source": []
  }
 ],
 "metadata": {
  "kernelspec": {
   "display_name": "Python 3 (ipykernel)",
   "language": "python",
   "name": "python3"
  },
  "language_info": {
   "codemirror_mode": {
    "name": "ipython",
    "version": 3
   },
   "file_extension": ".py",
   "mimetype": "text/x-python",
   "name": "python",
   "nbconvert_exporter": "python",
   "pygments_lexer": "ipython3",
   "version": "3.10.9"
  }
 },
 "nbformat": 4,
 "nbformat_minor": 5
}
