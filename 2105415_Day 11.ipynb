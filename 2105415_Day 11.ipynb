{
 "cells": [
  {
   "cell_type": "code",
   "execution_count": 1,
   "id": "e1c99515",
   "metadata": {},
   "outputs": [
    {
     "name": "stdout",
     "output_type": "stream",
     "text": [
      "Enter the number of rows5\n",
      "* \n",
      "* * \n",
      "* * * \n",
      "* * * * \n",
      "* * * * * \n"
     ]
    }
   ],
   "source": [
    "#1(a)\n",
    "n= int(input(\"Enter the number of rows\"));\n",
    "#n=5\n",
    "k = 1\n",
    "for i in range(0, n):\n",
    "    for j in range(0, k):\n",
    "        print(\"* \", end=\"\")\n",
    "    k = k + 1\n",
    "    print()"
   ]
  },
  {
   "cell_type": "code",
   "execution_count": 2,
   "id": "8e3a96e9",
   "metadata": {},
   "outputs": [
    {
     "name": "stdout",
     "output_type": "stream",
     "text": [
      "\n",
      "1 \n",
      "2 2 \n",
      "3 3 3 \n",
      "4 4 4 4 \n",
      "5 5 5 5 5 \n"
     ]
    }
   ],
   "source": [
    "#1(b)\n",
    "n = 5\n",
    "for i in range(n+1):\n",
    "    for j in range(1, i+1):\n",
    "        print(i, end=' ')\n",
    "    print()"
   ]
  },
  {
   "cell_type": "code",
   "execution_count": 3,
   "id": "03acd983",
   "metadata": {},
   "outputs": [
    {
     "name": "stdout",
     "output_type": "stream",
     "text": [
      "\n",
      "1 \n",
      "1 2 \n",
      "1 2 3 \n",
      "1 2 3 4 \n",
      "1 2 3 4 5 \n"
     ]
    }
   ],
   "source": [
    "#1(c)\n",
    "n = 5\n",
    "for i in range(n+1):\n",
    "    for j in range(1, i+1):\n",
    "        print(j, end=' ')\n",
    "    print()"
   ]
  },
  {
   "cell_type": "code",
   "execution_count": 4,
   "id": "d6355c80",
   "metadata": {},
   "outputs": [
    {
     "name": "stdout",
     "output_type": "stream",
     "text": [
      "1\n",
      "01\n",
      "101\n",
      "0101\n",
      "10101\n"
     ]
    }
   ],
   "source": [
    "#1(e)\n",
    "\n",
    "for i in range(1, 6):\n",
    "    for j in range(i, i+i):\n",
    "        print(j%2, end=\"\")\n",
    "    print()\n"
   ]
  },
  {
   "cell_type": "code",
   "execution_count": 8,
   "id": "97a6a9aa",
   "metadata": {},
   "outputs": [
    {
     "name": "stdout",
     "output_type": "stream",
     "text": [
      "\n",
      "1 \t\n",
      "2 \t3 \t\n",
      "4 \t5 \t6 \t\n",
      "7 \t8 \t9 \t10 \t\n",
      "11 \t12 \t13 \t14 \t15 \t\n"
     ]
    }
   ],
   "source": [
    "#1(f)\n",
    "\n",
    "r = 5 \n",
    "c = 1\n",
    "for i in range(r+1):\n",
    "\tfor j in range(1,i+1):\n",
    "\t\tprint(c,'\\t',end=\"\")\n",
    "\t\tc=c+1\t\n",
    "\tprint()"
   ]
  },
  {
   "cell_type": "code",
   "execution_count": 12,
   "id": "763da84c",
   "metadata": {},
   "outputs": [
    {
     "name": "stdout",
     "output_type": "stream",
     "text": [
      "5\n",
      "54\n",
      "543\n",
      "5432\n",
      "54321\n"
     ]
    }
   ],
   "source": [
    "#1(g)\n",
    "n=5\n",
    "\n",
    "for i in range(n,0,-1):\n",
    "\n",
    "   for j in range (n,i-1,-1):\n",
    "\n",
    "       print(j,end=\"\")\n",
    "\n",
    "   print()"
   ]
  },
  {
   "cell_type": "code",
   "execution_count": 13,
   "id": "fb19f204",
   "metadata": {},
   "outputs": [
    {
     "name": "stdout",
     "output_type": "stream",
     "text": [
      "5\n",
      "44\n",
      "333\n",
      "2222\n",
      "11111\n"
     ]
    }
   ],
   "source": [
    "#1(h)\n",
    "for i in range(5, 0, -1):\n",
    "    for j in range(i, 6):\n",
    "        print(i, end=\"\")\n",
    "    print()"
   ]
  },
  {
   "cell_type": "code",
   "execution_count": 1,
   "id": "9e16bb37",
   "metadata": {},
   "outputs": [
    {
     "name": "stdout",
     "output_type": "stream",
     "text": [
      "* * * * *  \n",
      "* * * *  \n",
      "* * *  \n",
      "* *  \n",
      "*  \n",
      " \n"
     ]
    }
   ],
   "source": [
    "#1(i)\n",
    "\n",
    "rows = 5\n",
    "for i in range(rows + 1, 0, -1):\n",
    "    # nested reverse loop\n",
    "    for j in range(0, i - 1):\n",
    "        # display star\n",
    "        print(\"*\", end=' ')\n",
    "    print(\" \")"
   ]
  },
  {
   "cell_type": "code",
   "execution_count": 2,
   "id": "63890fa9",
   "metadata": {},
   "outputs": [
    {
     "name": "stdout",
     "output_type": "stream",
     "text": [
      "11111\n",
      "2222\n",
      "333\n",
      "44\n",
      "5\n"
     ]
    }
   ],
   "source": [
    "#1 (j)\n",
    "for i in range(1, 6):\n",
    "    for j in range(i, 6):\n",
    "        print(i, end=\"\")\n",
    "    print()"
   ]
  },
  {
   "cell_type": "code",
   "execution_count": 3,
   "id": "3e0950d3",
   "metadata": {},
   "outputs": [
    {
     "name": "stdout",
     "output_type": "stream",
     "text": [
      "12345\n",
      "1234\n",
      "123\n",
      "12\n",
      "1\n"
     ]
    }
   ],
   "source": [
    "#1(k)\n",
    "\n",
    "for i in range(6, 1, -1):\n",
    "    for j in range(1, i):\n",
    "        print(j, end=\"\")\n",
    "    print()"
   ]
  },
  {
   "cell_type": "code",
   "execution_count": 4,
   "id": "f64b8b2e",
   "metadata": {},
   "outputs": [
    {
     "name": "stdout",
     "output_type": "stream",
     "text": [
      "55555\n",
      "4444\n",
      "333\n",
      "22\n",
      "1\n"
     ]
    }
   ],
   "source": [
    "#1(l)\n",
    "\n",
    "n=5\n",
    "for i in range(n,0,-1):\n",
    "    for j in range(1,i+1):\n",
    "        print(i,end=\"\")\n",
    "    print()"
   ]
  },
  {
   "cell_type": "code",
   "execution_count": 5,
   "id": "88845610",
   "metadata": {},
   "outputs": [
    {
     "name": "stdout",
     "output_type": "stream",
     "text": [
      "54321\n",
      "5432\n",
      "543\n",
      "54\n",
      "5\n"
     ]
    }
   ],
   "source": [
    "#1(m)\n",
    "for i in range(1, 6):\n",
    "    for j in range(5, i-1,-1):\n",
    "        print(j, end=\"\")\n",
    "    print()"
   ]
  },
  {
   "cell_type": "code",
   "execution_count": 7,
   "id": "c5ac7b90",
   "metadata": {},
   "outputs": [
    {
     "name": "stdout",
     "output_type": "stream",
     "text": [
      "    1    \n",
      "   123   \n",
      "  12345  \n",
      " 1234567 \n",
      "123456789\n"
     ]
    }
   ],
   "source": [
    "i=0\n",
    "s=\"\"\n",
    "for _ in range(5):\n",
    "    s+=str(i+1)\n",
    "    print(s.center(9))\n",
    "    s+=str(i+2)\n",
    "    i+=2\n",
    "    "
   ]
  },
  {
   "cell_type": "code",
   "execution_count": 6,
   "id": "05eab3c3",
   "metadata": {},
   "outputs": [
    {
     "name": "stdout",
     "output_type": "stream",
     "text": [
      "    * \n",
      "   * * \n",
      "  * * * \n",
      " * * * * \n",
      "* * * * * \n"
     ]
    }
   ],
   "source": [
    "#2 (n)\n",
    "\n",
    "n=5\n",
    "for i in range(0, n):\n",
    "   for j in range(0, n-i-1):\n",
    "        print(end=\" \")\n",
    "   for j in range(0, i+1):\n",
    "      print(\"*\", end=\" \")\n",
    "   print()"
   ]
  },
  {
   "cell_type": "code",
   "execution_count": 8,
   "id": "3612fcea",
   "metadata": {},
   "outputs": [
    {
     "name": "stdout",
     "output_type": "stream",
     "text": [
      "        1 \n",
      "      2 3 2 \n",
      "    3 4 5 4 3 \n",
      "  4 5 6 7 6 5 4 \n",
      "5 6 7 8 9 8 7 6 5 \n"
     ]
    }
   ],
   "source": [
    "#3(v)\n",
    "rows = 5\n",
    "\n",
    "k = 0\n",
    "count=0\n",
    "count1=0\n",
    "\n",
    "for i in range(1, rows+1):\n",
    "    for space in range(1, (rows-i)+1):\n",
    "        print(\"  \", end=\"\")\n",
    "        count+=1\n",
    "    \n",
    "    while k!=((2*i)-1):\n",
    "        if count<=rows-1:\n",
    "            print(i+k, end=\" \")\n",
    "            count+=1\n",
    "        else:\n",
    "            count1+=1\n",
    "            print(i+k-(2*count1), end=\" \")\n",
    "        k += 1\n",
    "    \n",
    "    count1 = count = k = 0\n",
    "    print()"
   ]
  },
  {
   "cell_type": "code",
   "execution_count": 5,
   "id": "4e187217",
   "metadata": {},
   "outputs": [
    {
     "name": "stdout",
     "output_type": "stream",
     "text": [
      "     1    \n",
      "    1 2   \n",
      "   1 2 3  \n",
      "  1 2 3 4 \n",
      " 1 2 3 4 5\n"
     ]
    }
   ],
   "source": [
    "s=\"\"\n",
    "for i in range(5):\n",
    "    s+=' '+str(i+1)\n",
    "    print(s.center(10))"
   ]
  },
  {
   "cell_type": "code",
   "execution_count": 3,
   "id": "65607b4c",
   "metadata": {},
   "outputs": [
    {
     "name": "stdout",
     "output_type": "stream",
     "text": [
      " \n",
      "\n",
      "  \n",
      "\n",
      "\n",
      "   \n",
      "\n",
      "\n",
      "\n",
      "    \n",
      "\n",
      "\n",
      "\n",
      "\n",
      "     \n",
      "\n",
      "\n",
      "\n",
      "\n",
      "\n",
      "\n"
     ]
    }
   ],
   "source": [
    "#2(o)\n",
    "n=5\n",
    "for i in range(1, n+1):\n",
    "   for j in range(1, i+1):\n",
    "        print(end=\" \")\n",
    "   for j in range(0, i+1):\n",
    "      print( )\n",
    "print()\n"
   ]
  },
  {
   "cell_type": "code",
   "execution_count": 5,
   "id": "76a10fac",
   "metadata": {},
   "outputs": [
    {
     "name": "stdout",
     "output_type": "stream",
     "text": [
      "        * \n",
      "      * * \n",
      "    * * * \n",
      "  * * * * \n",
      "* * * * * \n"
     ]
    }
   ],
   "source": [
    "#2(p)\n",
    "rows = 5\n",
    "k = 2 * rows - 2\n",
    "for i in range(0, rows):\n",
    "    # process each column\n",
    "    for j in range(0, k):\n",
    "        # print space in pyramid\n",
    "        print(end=\" \")\n",
    "    k = k - 2\n",
    "    for j in range(0, i + 1):\n",
    "        # display star\n",
    "        print(\"* \", end=\"\")\n",
    "    print(\"\")"
   ]
  },
  {
   "cell_type": "code",
   "execution_count": 4,
   "id": "73c47307",
   "metadata": {},
   "outputs": [
    {
     "name": "stdout",
     "output_type": "stream",
     "text": [
      "          1 \n",
      "        1 2 \n",
      "      1 2 3 \n",
      "    1 2 3 4 \n",
      "  1 2 3 4 5 \n"
     ]
    }
   ],
   "source": [
    "#2(q)\n",
    "rows = 6\n",
    "for i in range(1, rows):\n",
    "    num = 1\n",
    "    for j in range(rows, 0, -1):\n",
    "        if j > i:\n",
    "            print(\" \", end=' ')\n",
    "        else:\n",
    "            print(num, end=' ')\n",
    "            num += 1\n",
    "    print(\"\")"
   ]
  },
  {
   "cell_type": "code",
   "execution_count": 6,
   "id": "b4c03e93",
   "metadata": {},
   "outputs": [
    {
     "name": "stdout",
     "output_type": "stream",
     "text": [
      "    1    \n",
      "   222   \n",
      "  33333  \n",
      " 4444444 \n",
      "555555555\n"
     ]
    }
   ],
   "source": [
    "i=1\n",
    "for x in range(1,10,2):\n",
    "    print((str(i)*x).center(9))\n",
    "    i+=1"
   ]
  },
  {
   "cell_type": "code",
   "execution_count": 8,
   "id": "d39b6854",
   "metadata": {},
   "outputs": [
    {
     "name": "stdout",
     "output_type": "stream",
     "text": [
      "         5          \n",
      "       5 4 5        \n",
      "     5 4 3 4 5      \n",
      "   5 4 3 2 3 4 5    \n",
      " 5 4 3 2 1 2 3 4 5  \n"
     ]
    }
   ],
   "source": [
    "a=5\n",
    "s=\"\"\n",
    "for i in range(5):\n",
    "    s=(s[0:i*2]+' '+str(a)+' '+s[(i*2)-1::-1])\n",
    "    print(s.center(20))\n",
    "    a-=1"
   ]
  },
  {
   "cell_type": "code",
   "execution_count": 9,
   "id": "f5886057",
   "metadata": {},
   "outputs": [
    {
     "name": "stdout",
     "output_type": "stream",
     "text": [
      "5 5 5 5 5 5 5 5 5 \n",
      "  4 4 4 4 4 4 4   \n",
      "    3 3 3 3 3     \n",
      "      2 2 2       \n",
      "        1         \n"
     ]
    }
   ],
   "source": [
    "a=5\n",
    "for i in range(9,0,-2):\n",
    "    print(((str(a)+' ')*i).center(18))\n",
    "    a-=1"
   ]
  },
  {
   "cell_type": "code",
   "execution_count": 10,
   "id": "2c4eb583",
   "metadata": {},
   "outputs": [
    {
     "name": "stdout",
     "output_type": "stream",
     "text": [
      " 1 2 3 4 5 6 7 8 9\n",
      "   1 2 3 4 5 6 7  \n",
      "     1 2 3 4 5    \n",
      "       1 2 3      \n",
      "         1        \n"
     ]
    }
   ],
   "source": [
    "for i in range(9,0,-2):\n",
    "    s=\"\"\n",
    "    for x in range(1,i+1):\n",
    "        s+=' '+str(x)\n",
    "    print(s.center(18))"
   ]
  },
  {
   "cell_type": "code",
   "execution_count": 6,
   "id": "914130fc",
   "metadata": {},
   "outputs": [
    {
     "name": "stdout",
     "output_type": "stream",
     "text": [
      "        * \n",
      "       * * \n",
      "      * * * \n",
      "     * * * * \n",
      "    * * * * * \n",
      "   * * * * * * \n",
      "    * * * * * \n",
      "     * * * * \n",
      "      * * * \n",
      "       * * \n",
      "        * \n"
     ]
    }
   ],
   "source": [
    "#4(z3)\n",
    "rows = 5\n",
    "k = 2 * rows - 2\n",
    "for i in range(0, rows):\n",
    "    for j in range(0, k):\n",
    "        print(end=\" \")\n",
    "    k = k - 1\n",
    "    for j in range(0, i + 1):\n",
    "        print(\"* \", end=\"\")\n",
    "    print(\"\")\n",
    "    \n",
    "k = rows - 2\n",
    "\n",
    "for i in range(rows, -1, -1):\n",
    "    for j in range(k, 0, -1):\n",
    "        print(end=\" \")\n",
    "    k = k + 1\n",
    "    for j in range(0, i + 1):\n",
    "        print(\"* \", end=\"\")\n",
    "    print(\"\")"
   ]
  },
  {
   "cell_type": "code",
   "execution_count": 11,
   "id": "e5983a1c",
   "metadata": {},
   "outputs": [
    {
     "name": "stdout",
     "output_type": "stream",
     "text": [
      " 5 6 7 8 9 8 7 6 5\n",
      "   4 5 6 7 6 5 4  \n",
      "     3 4 5 4 3    \n",
      "       2 3 2      \n",
      "         1        \n"
     ]
    }
   ],
   "source": [
    "a=5\n",
    "for i in range(9,0,-2):\n",
    "    s=\"\"\n",
    "    c=1\n",
    "    for x in range(i):\n",
    "        if(a==i):\n",
    "            c=-1\n",
    "        s+=' '+str(a)\n",
    "        a+=c\n",
    "    print(s.center(18))"
   ]
  },
  {
   "cell_type": "code",
   "execution_count": 12,
   "id": "d7e1b816",
   "metadata": {},
   "outputs": [
    {
     "name": "stdout",
     "output_type": "stream",
     "text": [
      " 5 4 3 2 1 2 3 4 5\n",
      "   5 4 3 2 3 4 5  \n",
      "     5 4 3 4 5    \n",
      "       5 4 5      \n",
      "         5        \n"
     ]
    }
   ],
   "source": [
    "for i in range(9,0,-2):\n",
    "    a=5\n",
    "    s=\"\"\n",
    "    c=-1\n",
    "    for x in range(i):\n",
    "        if(x==int((i/2))):\n",
    "            c=1\n",
    "        s+=' '+str(a)\n",
    "        a+=c\n",
    "    print(s.center(18))"
   ]
  },
  {
   "cell_type": "code",
   "execution_count": 13,
   "id": "66193bd6",
   "metadata": {},
   "outputs": [
    {
     "name": "stdout",
     "output_type": "stream",
     "text": [
      "        1         \n",
      "      2 2 2       \n",
      "    3 3 3 3 3     \n",
      "  4 4 4 4 4 4 4   \n",
      "5 5 5 5 5 5 5 5 5 \n",
      "  4 4 4 4 4 4 4   \n",
      "    3 3 3 3 3     \n",
      "      2 2 2       \n",
      "        1         \n"
     ]
    }
   ],
   "source": [
    "c=2\n",
    "i=1\n",
    "while i<18 and i>0:\n",
    "    print(((str(i-int(i/2))+' ')*i).center(18))\n",
    "    if(i==9):\n",
    "        c=-2\n",
    "    i+=c"
   ]
  },
  {
   "cell_type": "code",
   "execution_count": 9,
   "id": "9bdf50c5",
   "metadata": {},
   "outputs": [
    {
     "name": "stdout",
     "output_type": "stream",
     "text": [
      "*  *  *  *  *  *  *  \n",
      "*  *  *  *  *  *  *  \n",
      "*  *  *  *  *  *  *  \n",
      "*  *  *  *  *  *  *  \n",
      "*  *  *  *  *  *  *  \n",
      "*  *  *  *  *  *  *  \n",
      "*  *  *  *  *  *  *  \n"
     ]
    }
   ],
   "source": [
    "#62(a)\n",
    "side = 7\n",
    "i = 0\n",
    " \n",
    "\n",
    "while(i < side):\n",
    "    j = 0\n",
    "    while(j < side):      \n",
    "        j = j + 1\n",
    "        print('*', end = '  ')\n",
    "    i = i + 1\n",
    "    print('')"
   ]
  },
  {
   "cell_type": "code",
   "execution_count": 14,
   "id": "e4cbe795",
   "metadata": {},
   "outputs": [
    {
     "name": "stdout",
     "output_type": "stream",
     "text": [
      "         1       \n",
      "       1 2 3     \n",
      "     1 2 3 4 5   \n",
      "   1 2 3 4 5 6 7 \n",
      " 1 2 3 4 5 6 7 8 9\n",
      "   1 2 3 4 5 6 7 \n",
      "     1 2 3 4 5   \n",
      "       1 2 3     \n",
      "         1       \n"
     ]
    }
   ],
   "source": [
    "c=2\n",
    "i=1\n",
    "while i>0:\n",
    "    s=\"\"\n",
    "    for x in range(i):\n",
    "        s+=' '+str(x+1)\n",
    "    print(s.center(17))\n",
    "    if(i==9):\n",
    "        c=-2\n",
    "    i+=c"
   ]
  },
  {
   "cell_type": "code",
   "execution_count": 11,
   "id": "8a1f9c77",
   "metadata": {},
   "outputs": [
    {
     "name": "stdout",
     "output_type": "stream",
     "text": [
      "*  *  *  *  *  *  *  \n",
      "*                 *  \n",
      "*                 *  \n",
      "*                 *  \n",
      "*                 *  \n",
      "*                 *  \n",
      "*  *  *  *  *  *  *  \n"
     ]
    }
   ],
   "source": [
    "#62(b)\n",
    "side = 7\n",
    "\n",
    "\n",
    "i = 0\n",
    "while(i < side):\n",
    "    j = 0\n",
    "    while(j < side):\n",
    "        if(i == 0 or i == side - 1 or j == 0 or j == side - 1):\n",
    "            print('*', end = '  ')\n",
    "        else:\n",
    "            print(' ', end = '  ')\n",
    "        j = j + 1\n",
    "    i = i + 1\n",
    "    print()"
   ]
  },
  {
   "cell_type": "code",
   "execution_count": 15,
   "id": "470d4221",
   "metadata": {},
   "outputs": [
    {
     "name": "stdout",
     "output_type": "stream",
     "text": [
      "         5         \n",
      "       5 4 5       \n",
      "     5 4 3 4 5     \n",
      "   5 4 3 2 3 4 5   \n",
      " 5 4 3 2 1 2 3 4 5 \n",
      "   5 4 3 2 3 4 5   \n",
      "     5 4 3 4 5     \n",
      "       5 4 5       \n",
      "         5         \n"
     ]
    }
   ],
   "source": [
    "a=5\n",
    "s=\"\"\n",
    "i=1\n",
    "x=1\n",
    "while i>0:\n",
    "    s=(s[0:(i-1)*2]+' '+str(a)+' '+(s[((i-1)*2)::-1]).strip()+' ')\n",
    "    print(s.center(19))\n",
    "    if(i==5):\n",
    "        x=-1\n",
    "    a-=x\n",
    "    i+=x"
   ]
  },
  {
   "cell_type": "code",
   "execution_count": 16,
   "id": "3779468c",
   "metadata": {},
   "outputs": [
    {
     "name": "stdout",
     "output_type": "stream",
     "text": [
      "        * * * * * * \n",
      "         * * * * * \n",
      "          * * * * \n",
      "           * * * \n",
      "            * * \n",
      "             * \n"
     ]
    }
   ],
   "source": [
    "#3\n",
    "r=5\n",
    "# It is used to print space  \n",
    "k = 2 * r - 2  \n",
    "# Outer loop in reverse order  \n",
    "for i in range(r, -1, -1):  \n",
    "    # Inner loop will print the number of space.  \n",
    "    for j in range(k, 0, -1):  \n",
    "        print(end=\" \")  \n",
    "    k = k + 1  \n",
    "    # This inner loop will print the number o stars  \n",
    "    for j in range(0, i + 1):  \n",
    "        print(\"*\", end=\" \")  \n",
    "    print(\"\")  "
   ]
  },
  {
   "cell_type": "code",
   "execution_count": 17,
   "id": "d1452610",
   "metadata": {},
   "outputs": [
    {
     "name": "stdout",
     "output_type": "stream",
     "text": [
      "---------------.|.---------------\n",
      "------------.|..|..|.------------\n",
      "---------.|..|..|..|..|.---------\n",
      "------.|..|..|..|..|..|..|.------\n",
      "---.|..|..|..|..|..|..|..|..|.---\n",
      "-------------WELCOME-------------\n",
      "---.|..|..|..|..|..|..|..|..|.---\n",
      "------.|..|..|..|..|..|..|.------\n",
      "---------.|..|..|..|..|.---------\n",
      "------------.|..|..|.------------\n",
      "---------------.|.---------------\n"
     ]
    }
   ],
   "source": [
    "#5(a)\n",
    "def solve(n, m):\n",
    "   for i in range(1,n,2):\n",
    "      print ('-'*int((m-i*3)/2)+'.|.'*i+'-'*int((m-i*3)/2))\n",
    "\n",
    "   print('-'*int((m-7)/2)+'WELCOME'+'-'*int((m-7)/2))\n",
    "\n",
    "   for i in range(n-2,-1,-2):\n",
    "      print ('-'*int((m-i*3)/2)+'.|.'*i+'-'*int((m-i*3)/2))\n",
    "\n",
    "n = 11\n",
    "m = 33\n",
    "solve(n, m)"
   ]
  },
  {
   "cell_type": "code",
   "execution_count": 14,
   "id": "20bf1fa7",
   "metadata": {},
   "outputs": [
    {
     "name": "stdout",
     "output_type": "stream",
     "text": [
      "Enter thhe size:10\n",
      "------------------j------------------\n",
      "----------------j-i-j----------------\n",
      "--------------j-i-h-i-j--------------\n",
      "------------j-i-h-g-h-i-j------------\n",
      "----------j-i-h-g-f-g-h-i-j----------\n",
      "--------j-i-h-g-f-e-f-g-h-i-j--------\n",
      "------j-i-h-g-f-e-d-e-f-g-h-i-j------\n",
      "----j-i-h-g-f-e-d-c-d-e-f-g-h-i-j----\n",
      "--j-i-h-g-f-e-d-c-b-c-d-e-f-g-h-i-j--\n",
      "j-i-h-g-f-e-d-c-b-a-b-c-d-e-f-g-h-i-j\n",
      "--j-i-h-g-f-e-d-c-b-c-d-e-f-g-h-i-j--\n",
      "----j-i-h-g-f-e-d-c-d-e-f-g-h-i-j----\n",
      "------j-i-h-g-f-e-d-e-f-g-h-i-j------\n",
      "--------j-i-h-g-f-e-f-g-h-i-j--------\n",
      "----------j-i-h-g-f-g-h-i-j----------\n",
      "------------j-i-h-g-h-i-j------------\n",
      "--------------j-i-h-i-j--------------\n",
      "----------------j-i-j----------------\n",
      "------------------j------------------\n"
     ]
    }
   ],
   "source": [
    "#5(b)\n",
    "def print_rangoli(size):\n",
    "   \n",
    "    import string\n",
    "    design = string.ascii_lowercase\n",
    "\n",
    "    L = []\n",
    "    for i in range(n):\n",
    "        s = \"-\".join(design[i:n])\n",
    "        L.append((s[::-1]+s[1:]).center(4*n-3, \"-\"))\n",
    "        \n",
    "    print('\\n'.join(L[:0:-1]+L))\n",
    "\n",
    "\n",
    "if __name__ == '__main__':\n",
    "    n = int(input(\"Enter thhe size:\"))\n",
    "    print_rangoli(n)"
   ]
  }
 ],
 "metadata": {
  "kernelspec": {
   "display_name": "Python 3 (ipykernel)",
   "language": "python",
   "name": "python3"
  },
  "language_info": {
   "codemirror_mode": {
    "name": "ipython",
    "version": 3
   },
   "file_extension": ".py",
   "mimetype": "text/x-python",
   "name": "python",
   "nbconvert_exporter": "python",
   "pygments_lexer": "ipython3",
   "version": "3.10.9"
  }
 },
 "nbformat": 4,
 "nbformat_minor": 5
}
