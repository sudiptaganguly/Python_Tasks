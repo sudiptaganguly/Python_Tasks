{
 "cells": [
  {
   "cell_type": "code",
   "execution_count": 1,
   "id": "18eb4b4c",
   "metadata": {},
   "outputs": [
    {
     "name": "stdout",
     "output_type": "stream",
     "text": [
      "Enter a number: 234\n",
      "Positive number\n"
     ]
    }
   ],
   "source": [
    "#                                       Python Tasks – Day9\n",
    "\n",
    "#1. Write a Python program to check whether a number is negative, positive or zero. \n",
    "n = float(input(\"Enter a number: \"))\n",
    "if n> 0:\n",
    "   print(\"Positive number\")\n",
    "elif n == 0:\n",
    "   print(\"Zero\")\n",
    "else:\n",
    "   print(\"Negative number\")\n"
   ]
  },
  {
   "cell_type": "code",
   "execution_count": 5,
   "id": "22bb97fe",
   "metadata": {},
   "outputs": [
    {
     "ename": "SyntaxError",
     "evalue": "invalid character '“' (U+201C) (2650003495.py, line 7)",
     "output_type": "error",
     "traceback": [
      "\u001b[1;36m  Cell \u001b[1;32mIn[5], line 7\u001b[1;36m\u001b[0m\n\u001b[1;33m    print (“The number is divisible by 5 and 11.”)\u001b[0m\n\u001b[1;37m           ^\u001b[0m\n\u001b[1;31mSyntaxError\u001b[0m\u001b[1;31m:\u001b[0m invalid character '“' (U+201C)\n"
     ]
    }
   ],
   "source": [
    "#2.\n",
    "n = int (input (\"Enter the number:\") \n",
    "\n",
    "\n",
    "if n%5 == 0 and n%11==0:\n",
    "\n",
    "              print (“The number is divisible by 5 and 11.”)\n",
    "\n",
    "else:\n",
    "\n",
    "              print (“The number is not divisible by 5 and 11.”)\n"
   ]
  },
  {
   "cell_type": "code",
   "execution_count": 8,
   "id": "833eda44",
   "metadata": {},
   "outputs": [
    {
     "name": "stdout",
     "output_type": "stream",
     "text": [
      " Please Enter any Positive Integer : 55\n",
      "Given Number 55 is Divisible by 5 and 11\n"
     ]
    }
   ],
   "source": [
    "#2. Write a Python program to check whether a number is divisible by 5 and 11 or not. \n",
    "\n",
    "number = int(input(\" Please Enter any Positive Integer : \"))\n",
    "\n",
    "if((number % 5 == 0) and (number % 11 == 0)):\n",
    "\n",
    "   print(\"Given Number {0} is Divisible by 5 and 11\".format(number))\n",
    "\n",
    "else:\n",
    "\n",
    "   print(\"Given Number {0} is Not Divisible by 5 and 11\".format(number))"
   ]
  },
  {
   "cell_type": "code",
   "execution_count": 1,
   "id": "5be7467a",
   "metadata": {},
   "outputs": [
    {
     "name": "stdout",
     "output_type": "stream",
     "text": [
      "Enter a year: 2016\n",
      "2016 is a leap year\n"
     ]
    }
   ],
   "source": [
    "#3. Write a Python program to check whether a year is leap-year or not. \n",
    "\n",
    "year = int(input(\"Enter a year: \"))\n",
    "\n",
    "\n",
    "if (year % 400 == 0) and (year % 100 == 0):\n",
    "    print(\"{0} is a leap year\".format(year))\n",
    "\n",
    "\n",
    "elif (year % 4 ==0) and (year % 100 != 0):\n",
    "    print(\"{0} is a leap year\".format(year))\n",
    "\n",
    "\n",
    "else:\n",
    "    print(\"{0} is not a leap year\".format(year))"
   ]
  },
  {
   "cell_type": "code",
   "execution_count": 12,
   "id": "ef73ab09",
   "metadata": {},
   "outputs": [
    {
     "name": "stdout",
     "output_type": "stream",
     "text": [
      "Enter a Character: C\n",
      "\n",
      "It is an alphabet\n"
     ]
    }
   ],
   "source": [
    "#4. Write a Python program to check whether a character is alphabet or not. \n",
    "c=input(\"Enter a Character: \")\n",
    "\n",
    "if c>='a' and c<='z':\n",
    "    print(\"\\nIt is an alphabet\")\n",
    "elif c>='A' and c<='z':\n",
    "    print(\"\\nIt is an alphabet\")\n",
    "else:\n",
    "    print(\"\\nIt is not an alphabet!\")"
   ]
  },
  {
   "cell_type": "code",
   "execution_count": 13,
   "id": "43daa742",
   "metadata": {},
   "outputs": [
    {
     "name": "stdout",
     "output_type": "stream",
     "text": [
      "Enter a character: I\n",
      "I is a Vowel\n"
     ]
    }
   ],
   "source": [
    "#5. Write a Python program to input any alphabet and check whether it is vowel or consonant. \n",
    "b = input(\"Enter a character: \")\n",
    "\n",
    "if(b=='A' or b=='a' or b=='E' or b =='e' or b=='I'\n",
    " or b=='i' or b=='O' or b=='o' or b=='U' or b=='u'):\n",
    "    print(b, \"is a Vowel\")\n",
    "else:\n",
    "    print(b, \"is a Consonant\")"
   ]
  },
  {
   "cell_type": "code",
   "execution_count": 14,
   "id": "d14d68c9",
   "metadata": {},
   "outputs": [
    {
     "name": "stdout",
     "output_type": "stream",
     "text": [
      "Please Enter Your Own Character : @\n",
      "The Given Character  @ is a Special Character\n"
     ]
    }
   ],
   "source": [
    "#6. Write a Python program to input any character and check whether it is alphabet, digit or special character.\n",
    "b = input(\"Please Enter Your Own Character : \")\n",
    "\n",
    "if((b >= 'a' and b <= 'z') or (b >= 'A' and b <= 'Z')): \n",
    "    print(\"The Given Character \", b, \"is an Alphabet\") \n",
    "elif(b >= '0' and b <= '9'):\n",
    "    print(\"The Given Character \", b, \"is a Digit\")\n",
    "else:\n",
    "    print(\"The Given Character \", b, \"is a Special Character\")"
   ]
  },
  {
   "cell_type": "code",
   "execution_count": 15,
   "id": "5ce97ed1",
   "metadata": {},
   "outputs": [
    {
     "name": "stdout",
     "output_type": "stream",
     "text": [
      "Please Enter Your Own Character : h\n",
      "The Given Character  h is a Lowercase Alphabet\n"
     ]
    }
   ],
   "source": [
    "#7. Write a Python program to check whether a character is uppercase or lowercase alphabet. \n",
    "ch = input(\"Please Enter Your Own Character : \")\n",
    "\n",
    "if(ch.isupper()):\n",
    "    print(\"The Given Character \", ch, \"is an Uppercase Alphabet\")\n",
    "elif(ch.islower()):\n",
    "    print(\"The Given Character \", ch, \"is a Lowercase Alphabet\")\n",
    "else:\n",
    "    print(\"The Given Character \", ch, \"is Not a Lower or Uppercase Alphabet\")"
   ]
  },
  {
   "cell_type": "code",
   "execution_count": 18,
   "id": "64599383",
   "metadata": {},
   "outputs": [
    {
     "name": "stdout",
     "output_type": "stream",
     "text": [
      "Enter weekday number (1-7) : 5\n",
      "\n",
      "Friday\n"
     ]
    }
   ],
   "source": [
    "#8. Write a Python program to input week number and print weekday. \n",
    "weekday = int(input(\"Enter weekday number (1-7) : \"))\n",
    "\n",
    "if weekday == 1 :\n",
    "    print(\"\\nMonday\");\n",
    "\n",
    "elif weekday == 2 :\n",
    "    print(\"\\nTuesday\")\n",
    "\n",
    "elif(weekday == 3) :\n",
    "    print(\"\\nWednesday\")\n",
    "\n",
    "elif(weekday == 4) :\n",
    "    print(\"\\nThursday\")\n",
    "\n",
    "elif(weekday == 5) :\n",
    "    print(\"\\nFriday\")\n",
    "\n",
    "elif(weekday == 6) :\n",
    "    print(\"\\nSaturday\")\n",
    "\n",
    "elif (weekday == 7) :\n",
    "    print(\"\\nSunday\")\n",
    "\n",
    "else :\n",
    "    print(\"\\nPlease enter any weekday number (1-7)\")"
   ]
  },
  {
   "cell_type": "code",
   "execution_count": 1,
   "id": "3ee36289",
   "metadata": {},
   "outputs": [
    {
     "name": "stdout",
     "output_type": "stream",
     "text": [
      "Enter the First Angle of a Triangle: 20\n",
      " Enter the Second Angle of a Triangle: 20\n",
      "Enter the Third Angle of a Triangle: 40\n",
      "\n",
      "This is an Invalid Triangle\n"
     ]
    }
   ],
   "source": [
    "#9. Write a Python program to input angles of a triangle and check whether triangle is valid or not.\n",
    "a = int(input('Enter the First Angle of a Triangle: '))\n",
    "b = int(input(' Enter the Second Angle of a Triangle: '))\n",
    "c = int(input('Enter the Third Angle of a Triangle: '))\n",
    "\n",
    "\n",
    "total = a + b + c\n",
    "\n",
    "if total == 180:\n",
    "    print(\"\\nThis is a Valid Triangle\")\n",
    "else:\n",
    "    print(\"\\nThis is an Invalid Triangle\")"
   ]
  },
  {
   "cell_type": "code",
   "execution_count": 2,
   "id": "41421c48",
   "metadata": {},
   "outputs": [
    {
     "name": "stdout",
     "output_type": "stream",
     "text": [
      "Enter the First side of a Triangle: 20\n",
      " Enter the Second side of a Triangle: 20\n",
      "Enter the Third side of a Triangle: 20\n",
      "\n",
      "This is an Invalid Triangle\n"
     ]
    }
   ],
   "source": [
    "#10. Write a Python program to input all sides of a triangle and check whether triangle is valid or not. \n",
    "\n",
    "s1 = int(input('Enter the First side of a Triangle: '))\n",
    "s2 = int(input(' Enter the Second side of a Triangle: '))\n",
    "s3 = int(input('Enter the Third side of a Triangle: '))\n",
    "\n",
    "\n",
    "sum= a + b + c\n",
    "\n",
    "if sum == 180:\n",
    "    print(\"\\nThis is a Valid Triangle\")\n",
    "else:\n",
    "    print(\"\\nThis is an Invalid Triangle\")\n"
   ]
  },
  {
   "cell_type": "code",
   "execution_count": 3,
   "id": "0f99c812",
   "metadata": {},
   "outputs": [
    {
     "name": "stdout",
     "output_type": "stream",
     "text": [
      "Input lengths of the triangle sides: \n",
      "x: 45\n",
      "y: 90\n",
      "z: 32\n",
      "Scalene triangle\n"
     ]
    }
   ],
   "source": [
    "#11. Write a Python program to check whether the triangle is equilateral, isosceles or scalene triangle. \n",
    "print(\"Input lengths of the triangle sides: \")\n",
    "x = int(input(\"x: \"))\n",
    "y = int(input(\"y: \"))\n",
    "z = int(input(\"z: \"))\n",
    "\n",
    "if x == y == z:\n",
    "\tprint(\"Equilateral triangle\")\n",
    "elif x==y or y==z or z==x:\n",
    "\tprint(\"isosceles triangle\")\n",
    "else:\n",
    "\tprint(\"Scalene triangle\")"
   ]
  },
  {
   "cell_type": "code",
   "execution_count": 4,
   "id": "570b2cab",
   "metadata": {},
   "outputs": [
    {
     "name": "stdout",
     "output_type": "stream",
     "text": [
      "Enter marks of the Physics: 90\n",
      "Enter marks of the Chemistry: 97\n",
      "Enter marks of the Biology: 89\n",
      "Enter marks of the Mathematics: 96\n",
      "Enter marks of the Computer: 99\n",
      "Grade: A\n",
      "9420.0\n"
     ]
    }
   ],
   "source": [
    "# #12. Write a Python program to input marks of five subjects Physics, Chemistry, Biology, Mathematics and Computer. Calculate percentage and grade according to following:  \n",
    "\n",
    "#                    Percentage >= 90%: Grade A \n",
    "\n",
    "#                    Percentage >= 80%: Grade B  \n",
    "\n",
    "#                    Percentage >= 70%: Grade C  \n",
    "\n",
    "#                    Percentage >= 60%: Grade D  \n",
    "\n",
    "#                    Percentage >= 40%: Grade E \n",
    "\n",
    "#                    Percentage < 40%: Grade F \n",
    "sub1=int(input(\"Enter marks of the Physics: \"))\n",
    "sub2=int(input(\"Enter marks of the Chemistry: \"))\n",
    "sub3=int(input(\"Enter marks of the Biology: \"))\n",
    "sub4=int(input(\"Enter marks of the Mathematics: \"))\n",
    "sub5=int(input(\"Enter marks of the Computer: \"))\n",
    "sum=sub1+sub2+sub3+sub4+sub5\n",
    "per=((sub1+sub2+sub3+sub4+sub4)/5)*100\n",
    "percentage=(sum/5)*100\n",
    "if(per>=90):\n",
    "    print(\"Grade: A\")\n",
    "    print(percentage)\n",
    "elif(per>=80&per<90):\n",
    "    print(\"Grade: B\")\n",
    "    print(percentage)\n",
    "    \n",
    "    \n",
    "elif(per>=70&per<80):\n",
    "    print(\"Grade: C\")\n",
    "    print(percentage)\n",
    "elif(per>=60&per<70):\n",
    "    print(\"Grade: D\")\n",
    "    print(percentage)\n",
    "elif(per>=40&per<60):\n",
    "    print(\"Grade: E\")\n",
    "    print(percentage)\n",
    "else:\n",
    "    print(\"Grade: F\")\n",
    "    print(percentage)"
   ]
  },
  {
   "cell_type": "code",
   "execution_count": 5,
   "id": "13e996ce",
   "metadata": {},
   "outputs": [
    {
     "name": "stdout",
     "output_type": "stream",
     "text": [
      "Enter your basic salary: 15000\n",
      "The gross salary is 32250.0.\n"
     ]
    }
   ],
   "source": [
    " #13. Write a Python program to input basic salary of an employee and calculate its Gross salary according to following:  \n",
    "\n",
    "#                 Basic Salary <= 10000: HRA = 20%, DA = 80%  \n",
    "\n",
    "#                 Basic Salary <= 20000: HRA = 25%, DA = 90%  \n",
    "\n",
    "#                 Basic Salary > 20000: HRA = 30%, DA = 95% \n",
    "                    \n",
    "basic_salary = int(input(\"Enter your basic salary: \"))\n",
    "\n",
    "if basic_salary <=10000:\n",
    "\n",
    "   hra = .20 * basic_salary\n",
    "\n",
    "   da = .80 * basic_salary\n",
    "\n",
    "elif basic_salary <= 20000:\n",
    "\n",
    "   hra = .25 * basic_salary\n",
    "\n",
    "   da = .90 * basic_salary\n",
    "\n",
    "else:\n",
    "\n",
    "   hra = .30 * basic_salary\n",
    "\n",
    "   da = .95 * basic_salary\n",
    "\n",
    "gross_salary = basic_salary + hra + da\n",
    "\n",
    "print(f\"The gross salary is {gross_salary}.\")"
   ]
  },
  {
   "cell_type": "code",
   "execution_count": 7,
   "id": "d85f9dc3",
   "metadata": {},
   "outputs": [
    {
     "name": "stdout",
     "output_type": "stream",
     "text": [
      "Enter The Amount Of Units Consumed:150\n",
      "Amount To Be Paid Is: 100.0\n"
     ]
    }
   ],
   "source": [
    "#14. Write a Python Program to input electricity unit charges and calculate total electricity bill according to the given condition:  \n",
    "\n",
    "# For first 50 units Rs. 0.50/unit \n",
    "# For next 100 units Rs. 0.75/unit \n",
    "# For next 100 units Rs. 1.20/unit \n",
    "# For unit above 250 Rs. 1.50/unit \n",
    "# An additional surcharge of 20% is added to the bill \n",
    "\n",
    " \n",
    "u = int(input('Enter The Amount Of Units Consumed:'))\n",
    "\n",
    "if u <= 50:\n",
    "\n",
    "       amt = u*0.5\n",
    "\n",
    "       print('Amount To Be Paid Is:',amt)\n",
    "\n",
    "elif u <= 150 and u > 50:\n",
    "\n",
    "      amt = (50*0.5) + ((u-50)*0.75)\n",
    "\n",
    "      print('Amount To Be Paid Is:',amt)\n",
    "\n",
    "elif u <= 250 and u > 150:\n",
    "\n",
    "       amt = (50*0.5) + (100*0.75) + ((u-150)*1.2)\n",
    "\n",
    "       print('Amount To Be Paid Is:',amt)\n",
    "\n",
    "else:\n",
    "\n",
    "      amt = (50*0.5) + (100*0.75) + (100*1.2) + ((u-250)*1.5)\n",
    "\n",
    "      print('Amount To Be Paid Is:',amt)\n",
    "\n",
    "      print('Process Completed')\n",
    "\n"
   ]
  },
  {
   "cell_type": "code",
   "execution_count": null,
   "id": "745769cd",
   "metadata": {},
   "outputs": [],
   "source": []
  }
 ],
 "metadata": {
  "kernelspec": {
   "display_name": "Python 3 (ipykernel)",
   "language": "python",
   "name": "python3"
  },
  "language_info": {
   "codemirror_mode": {
    "name": "ipython",
    "version": 3
   },
   "file_extension": ".py",
   "mimetype": "text/x-python",
   "name": "python",
   "nbconvert_exporter": "python",
   "pygments_lexer": "ipython3",
   "version": "3.10.9"
  }
 },
 "nbformat": 4,
 "nbformat_minor": 5
}
