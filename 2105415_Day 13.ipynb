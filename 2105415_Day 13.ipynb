{
 "cells": [
  {
   "cell_type": "code",
   "execution_count": 1,
   "id": "14977f0b",
   "metadata": {},
   "outputs": [
    {
     "name": "stdout",
     "output_type": "stream",
     "text": [
      "{'a': 5, 'e': 7, 'i': 10, 'o': 1, 'u': 1}\n"
     ]
    }
   ],
   "source": [
    "#                                          Python Tasks – Day13 \n",
    "#1. Write a Python Code to count the Number of Each Vowel in a given string \n",
    "vowels = 'aeiou'\n",
    "\n",
    "ip_str = 'Data Science is an interdisciplinary field that  uses scientific methods.'\n",
    "\n",
    "# make it suitable for caseless comparisions\n",
    "ip_str = ip_str.casefold()\n",
    "\n",
    "# make a dictionary with each vowel a key and value 0\n",
    "count = {}.fromkeys(vowels,0)\n",
    "\n",
    "# count the vowels\n",
    "for char in ip_str:\n",
    "   if char in count:\n",
    "       count[char] += 1\n",
    "\n",
    "print(count)"
   ]
  },
  {
   "cell_type": "code",
   "execution_count": 2,
   "id": "9fce30ce",
   "metadata": {},
   "outputs": [
    {
     "name": "stdout",
     "output_type": "stream",
     "text": [
      "Enter a string:Machine Learning is a method of data analysis that automates analytical model building.\n",
      "Total number of characters in a string: 75\n"
     ]
    }
   ],
   "source": [
    "#2. Write a Python Code to count number of words, characters and number of spaces in a given string \n",
    "string = input(\"Enter a string:\");  \n",
    "count = 0;  \n",
    "   \n",
    "#Counts each character except space  \n",
    "for i in range(0, len(string)):  \n",
    "    if(string[i] != ' '):  \n",
    "        count = count + 1;  \n",
    "   \n",
    "#Displays the total number of characters present in the given string  \n",
    "print(\"Total number of characters in a string: \" + str(count));  "
   ]
  },
  {
   "cell_type": "code",
   "execution_count": 3,
   "id": "20c7ce90",
   "metadata": {},
   "outputs": [
    {
     "name": "stdout",
     "output_type": "stream",
     "text": [
      "Enter a string:Hello! My name is Rana. How are you?\n",
      "Hello My name is Rana How are you\n"
     ]
    }
   ],
   "source": [
    "#3. Write a Python Program to remove punctuation from a given string (using loop)\n",
    "punctuations = '''!()-[]{};:'\"\\,<>./?@#$%^&*_~'''\n",
    "\n",
    "str = input(\"Enter a string:\")\n",
    "\n",
    "\n",
    "\n",
    "# remove punctuation from the string\n",
    "no_punct = \"\"\n",
    "for char in str:\n",
    "   if char not in punctuations:\n",
    "       no_punct = no_punct + char\n",
    "\n",
    "# display the unpunctuated string\n",
    "print(no_punct)"
   ]
  },
  {
   "cell_type": "code",
   "execution_count": 6,
   "id": "908f0f53",
   "metadata": {},
   "outputs": [
    {
     "name": "stdout",
     "output_type": "stream",
     "text": [
      "Give the number of rows:3\n",
      "Give the number of columns:3\n",
      "Please write the elements of the matrix in a single line and separated by a space: \n",
      "2 4 6 8 3 5 7 9 1\n",
      "[[2 4 6]\n",
      " [8 3 5]\n",
      " [7 9 1]]\n"
     ]
    }
   ],
   "source": [
    "#4.Write a Python Program to take a mxn matrix input from user and stored in nested list \n",
    "import numpy as np  \n",
    "  \n",
    "Rows = int(input(\"Give the number of rows:\"))  \n",
    "Columns = int(input(\"Give the number of columns:\"))  \n",
    "  \n",
    "print(\"Please write the elements of the matrix in a single line and separated by a space: \")  \n",
    "  \n",
    "# User will give the entries in a single line  \n",
    "elements = list(map(int, input().split()))  \n",
    "  \n",
    "# Printing the matrix given by the user  \n",
    "matrixx = np.array(elements).reshape(Rows, Columns)  \n",
    "print(matrixx)  "
   ]
  },
  {
   "cell_type": "code",
   "execution_count": 1,
   "id": "dbf7ac21",
   "metadata": {},
   "outputs": [
    {
     "name": "stdout",
     "output_type": "stream",
     "text": [
      "Enter the size of two matrices of MxN order....\n",
      "\tM = 2\n",
      "\tN = 2\n",
      "Enter the entries of first matrix rowwise:\n",
      "2\n",
      "4\n",
      "6\n",
      "8\n",
      "Enter the entries of second matrix rowwise:\n",
      "3\n",
      "5\n",
      "7\n",
      "9\n",
      "\n",
      "Matrix-1: \n",
      "        2 4 \n",
      "        6 8 \n",
      "\n",
      "Matrix-2: \n",
      "        3 5 \n",
      "        7 9 \n",
      "\n",
      "Sum of two matrix: \n",
      "          5   9 \n",
      "         13  17 \n",
      "\n",
      "Multiplication of two matrix: \n",
      "          34   46 \n",
      "          74  102 \n",
      "\n",
      "Transpose of Matrix-1: \n",
      "         2  6 \n",
      "         4  8 \n",
      "\n",
      "Transpose of Matrix-2: \n",
      "         2  6 \n",
      "         4  8 \n"
     ]
    }
   ],
   "source": [
    "#5.Write a Python Program to add, multiply and transpose two matrices given by user  \n",
    "\n",
    "print(\"Enter the size of two matrices of MxN order....\")\n",
    "m=int(input(\"\\tM = \"))\n",
    "n=int(input(\"\\tN = \"))\n",
    "matrix1=[]\n",
    "print(\"Enter the entries of first matrix rowwise:\")\n",
    "for i in range(m):\n",
    "    a=[]\n",
    "    for j in range(n):\n",
    "        a.append(int(input()))\n",
    "    matrix1.append(a)\n",
    "matrix2=[]\n",
    "print(\"Enter the entries of second matrix rowwise:\")\n",
    "for i in range(m):\n",
    "    a=[]\n",
    "    for j in range(n):\n",
    "        a.append(int(input()))\n",
    "    matrix2.append(a)\n",
    "\n",
    "print(\"\\nMatrix-1: \")\n",
    "for i in range(m):\n",
    "    print(\"       \",end=\" \")\n",
    "    for j in range(n):\n",
    "        print(matrix1[i][j],end=\" \")\n",
    "    print()\n",
    "    \n",
    "print(\"\\nMatrix-2: \")\n",
    "for i in range(m):\n",
    "    print(\"       \",end=\" \")\n",
    "    for j in range(n):\n",
    "        print(matrix2[i][j],end=\" \")\n",
    "    print()\n",
    "    \n",
    "results=[]\n",
    "for i in range(m):\n",
    "    a=[]\n",
    "    for j in range(n):\n",
    "        a.append(matrix1[i][j]+matrix2[i][j])\n",
    "    results.append(a)\n",
    "print(\"\\nSum of two matrix: \")\n",
    "for i in range(m):\n",
    "    print(\"       \",end=\" \")\n",
    "    for j in range(n):\n",
    "        print(f\"{results[i][j]:>3}\",end=\" \")\n",
    "    print()\n",
    "    \n",
    "resultm=[]\n",
    "for i in range(len(matrix1)):\n",
    "    a=[]\n",
    "    for j in range(len(matrix2[0])):\n",
    "        c=0\n",
    "        for k in range(len(matrix2)):\n",
    "            c+= matrix1[i][k] * matrix2[k][j]\n",
    "        a.append(c)\n",
    "    resultm.append(a)\n",
    "print(\"\\nMultiplication of two matrix: \")\n",
    "for i in range(m):\n",
    "    print(\"       \",end=\" \")\n",
    "    for j in range(n):\n",
    "        print(f\"{resultm[i][j]:>4}\",end=\" \")\n",
    "    print()   \n",
    "\n",
    "resultt1=[]\n",
    "for i in range(m):\n",
    "    a=[]\n",
    "    for j in range(n):\n",
    "        a.append(matrix1[j][i])\n",
    "    resultt1.append(a)\n",
    "resultt2=[]\n",
    "for i in range(m):\n",
    "    a=[]\n",
    "    for j in range(n):\n",
    "        a.append(matrix1[j][i])\n",
    "    resultt2.append(a)\n",
    "print(\"\\nTranspose of Matrix-1: \")\n",
    "for i in range(m):\n",
    "    print(\"       \",end=\" \")\n",
    "    for j in range(n):\n",
    "        print(f\"{resultt1[i][j]:>2}\",end=\" \")\n",
    "    print()   \n",
    "print(\"\\nTranspose of Matrix-2: \")\n",
    "for i in range(m):\n",
    "    print(\"       \",end=\" \")\n",
    "    for j in range(n):\n",
    "        print(f\"{resultt2[i][j]:>2}\",end=\" \")\n",
    "    print()   "
   ]
  },
  {
   "cell_type": "code",
   "execution_count": null,
   "id": "4cf15ae9",
   "metadata": {},
   "outputs": [],
   "source": []
  }
 ],
 "metadata": {
  "kernelspec": {
   "display_name": "Python 3 (ipykernel)",
   "language": "python",
   "name": "python3"
  },
  "language_info": {
   "codemirror_mode": {
    "name": "ipython",
    "version": 3
   },
   "file_extension": ".py",
   "mimetype": "text/x-python",
   "name": "python",
   "nbconvert_exporter": "python",
   "pygments_lexer": "ipython3",
   "version": "3.10.9"
  }
 },
 "nbformat": 4,
 "nbformat_minor": 5
}
