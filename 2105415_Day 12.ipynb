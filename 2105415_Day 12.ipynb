{
 "cells": [
  {
   "cell_type": "code",
   "execution_count": 2,
   "id": "b1d99a6b",
   "metadata": {},
   "outputs": [
    {
     "name": "stdout",
     "output_type": "stream",
     "text": [
      "Enter Lower bound:- 1\n",
      "Enter Upper bound:- 50\n",
      "\n",
      "\tYou've only  6  chances to guess the integer!\n",
      "\n",
      "Guess a number:- 42\n",
      "You Guessed too high!\n",
      "Guess a number:- 20\n",
      "You Guessed too high!\n",
      "Guess a number:- 5\n",
      "You guessed too small!\n",
      "Guess a number:- 7\n",
      "You guessed too small!\n",
      "Guess a number:- 10\n",
      "You guessed too small!\n",
      "Guess a number:- 15\n",
      "You Guessed too high!\n",
      "\n",
      "The number is 14\n",
      "\tBetter Luck Next time!\n"
     ]
    }
   ],
   "source": [
    "  #                                       Python Tasks – Day12 \n",
    "#1. Write a code to implement Guess Game \n",
    "\n",
    "# constraints / Rules \n",
    "\n",
    "# you have 5 chance to guess correct number which is chosen by computer / friend \n",
    "\n",
    "# Range which is allowed to select a number 1-50 \n",
    "\n",
    "# After each guess you should give some tips / hints to user to improve their chance of winning \n",
    "\n",
    "# for example, if user guess a number which is higher than actual number you should say `hint: think a low number! \n",
    "\n",
    "# If user guess a number which is lower than actual number, you should say `hint: think a big number! ` \n",
    "\n",
    "#       If user wins, we will show a congrats message and stop our game. \n",
    "\n",
    "#       If any time user guess is out of limit, then print a warning message saying Think in Limits 1-50 only! \n",
    "\n",
    "#       but we do not count this as a chance \n",
    "import random\n",
    "import math\n",
    "# Taking Inputs\n",
    "lower = int(input(\"Enter Lower bound:- \"))\n",
    " \n",
    "# Taking Inputs\n",
    "upper = int(input(\"Enter Upper bound:- \"))\n",
    " \n",
    "# generating random number between\n",
    "# the lower and upper\n",
    "x = random.randint(lower, upper)\n",
    "print(\"\\n\\tYou've only \",\n",
    "       round(math.log(upper - lower + 1, 2)),\n",
    "      \" chances to guess the integer!\\n\")\n",
    " \n",
    "# Initializing the number of guesses.\n",
    "count = 0\n",
    " \n",
    "# for calculation of minimum number of\n",
    "# guesses depends upon range\n",
    "while count < math.log(upper - lower + 1, 2):\n",
    "    count += 1\n",
    " \n",
    "    # taking guessing number as input\n",
    "    guess = int(input(\"Guess a number:- \"))\n",
    "    # Condition testing\n",
    "    if x == guess:\n",
    "        print(\"Congratulations you did it in \",\n",
    "              count, \" try\")\n",
    "        # Once guessed, loop will break\n",
    "        break\n",
    "    elif x > guess:\n",
    "        print(\"You guessed too small!\")\n",
    "    elif x < guess:\n",
    "        print(\"You Guessed too high!\")\n",
    " \n",
    "# If Guessing is more than required guesses,\n",
    "# shows this output.\n",
    "if count >= math.log(upper - lower + 1, 2):\n",
    "    print(\"\\nThe number is %d\" % x)\n",
    "    print(\"\\tBetter Luck Next time!\")"
   ]
  },
  {
   "cell_type": "code",
   "execution_count": 3,
   "id": "2049d91e",
   "metadata": {},
   "outputs": [
    {
     "name": "stdout",
     "output_type": "stream",
     "text": [
      "Enter value of x: 1\n",
      "Enter value of y: 1\n",
      "Enter value of z: 2\n",
      "Enter the value of n: 3\n",
      "The coordinates are:\n",
      "[[0, 0, 0], [0, 0, 1], [0, 0, 2], [0, 1, 0], [0, 1, 1], [1, 0, 0], [1, 0, 1], [1, 1, 0], [1, 1, 2]]\n"
     ]
    }
   ],
   "source": [
    "#Q2. \n",
    "x=int(input(\"Enter value of x: \"))\n",
    "y=int(input(\"Enter value of y: \"))\n",
    "z=int(input(\"Enter value of z: \"))\n",
    "n=int(input(\"Enter the value of n: \"))\n",
    "cordinates=[[i,j,k] for i in range(x+1) for j in range(y+1) for k in range(z+1) if i+j+k!=n]\n",
    "print(\"The coordinates are:\")\n",
    "print(cordinates)"
   ]
  },
  {
   "cell_type": "code",
   "execution_count": 2,
   "id": "677b4172",
   "metadata": {},
   "outputs": [
    {
     "name": "stdout",
     "output_type": "stream",
     "text": [
      "Enter no. of commands you want to enter4\n",
      "Enter your commands:\n",
      "append 1\n",
      "append 2\n",
      "insert 3 1\n",
      "print\n",
      "[1, 2, 1]\n"
     ]
    }
   ],
   "source": [
    "# Q3.\n",
    "# Consider a list (list = []). You can perform the following commands:\n",
    "# 1) insert i e: Insert integer e at position i.\n",
    "# 2) print: Print the list.\n",
    "# 3) remove e: Delete the first occurrence of integer e.\n",
    "# 4) append e: Insert integer e at the end of the list.\n",
    "# 5) sort: Sort the list.\n",
    "# 6) pop: Pop the last element from the list.\n",
    "# 7) reverse: Reverse the list.\n",
    "# Initialize your list and read in the value of n followed by n lines of commands where each command \n",
    "# will be of the y types listed above. Iterate through each command in order and perform the corresponding\n",
    "# operation on your list.\n",
    "\n",
    "\n",
    "n=int(input(\"Enter no. of commands you want to enter\"))\n",
    "l=[]\n",
    "commands=[]\n",
    "i=0\n",
    "print(\"Enter your commands:\")\n",
    "while i<n:\n",
    "    entry=input().split()\n",
    "    commands.append(entry)\n",
    "    i+=1\n",
    "i=0\n",
    "while i<n:\n",
    "    rc=commands[i][0]\n",
    "    if rc=='insert':\n",
    "        l.insert(int(commands[i][1]),int(commands[i][2]))\n",
    "    elif rc=='print':\n",
    "        print(l)\n",
    "    elif rc=='remove':\n",
    "        l.remove(int(commands[i][1]))\n",
    "    elif rc=='append':\n",
    "        l.append(int(commands[i][1]))\n",
    "    elif rc=='sort':\n",
    "        l.sort()\n",
    "    elif rc=='pop':\n",
    "        l.pop()\n",
    "    elif rc=='reverse':\n",
    "        l.reverse()\n",
    "    i+=1"
   ]
  },
  {
   "cell_type": "code",
   "execution_count": 4,
   "id": "b06dbaac",
   "metadata": {},
   "outputs": [
    {
     "name": "stdout",
     "output_type": "stream",
     "text": [
      "[1, 2]\n"
     ]
    }
   ],
   "source": [
    "  l=[\"Marks\",\"20\"]\n",
    "l.reverse()\n",
    "l.pop()\n",
    "print(l)"
   ]
  },
  {
   "cell_type": "code",
   "execution_count": 5,
   "id": "eb6833fe",
   "metadata": {},
   "outputs": [
    {
     "name": "stdout",
     "output_type": "stream",
     "text": [
      "Enter the no. of student records you want to enter: 3\n",
      "Enter the records\n",
      "Krishna 67 68 69\n",
      "Arjun 70 98 63\n",
      "Malika 52 56 60\n",
      "Enter the key: Malika\n",
      "Avg = 56.00\n"
     ]
    }
   ],
   "source": [
    "# Q4. The provided code stub will read in a dictionary containing key/value pairs of name:[marks] for a list of students. Print the average of the marks array for the student name provided, showing 2 places after the decimal.\n",
    "\n",
    "# Sample Input:\n",
    "# 3\n",
    "# Krishna 67 68 69\n",
    "# Arjun 70 98 63\n",
    "# Malika 52 56 60\n",
    "# Malika\n",
    "\n",
    "# Sample Output:\n",
    "# 56.00\n",
    "\n",
    "dic={}\n",
    "n=int(input(\"Enter the no. of student records you want to enter: \"))\n",
    "print(\"Enter the records\")\n",
    "i=0\n",
    "while i<n:\n",
    "    entry=input().split()\n",
    "    key=entry[0]\n",
    "    entry.pop(0)\n",
    "    dic[key]=entry\n",
    "    i+=1\n",
    "key=input(\"Enter the key: \")\n",
    "marks=dic[key]\n",
    "avg=(int(marks[0])+int(marks[1])+int(marks[2]))/3.0\n",
    "print('Avg = %.2f'%avg)\n"
   ]
  },
  {
   "cell_type": "code",
   "execution_count": 6,
   "id": "65266f83",
   "metadata": {},
   "outputs": [
    {
     "name": "stdout",
     "output_type": "stream",
     "text": [
      "Enter the elements of list seperated by space: 2 4 6 8 9 7 3\n",
      "[2, 3, 4, 6, 7, 8, 9]\n"
     ]
    }
   ],
   "source": [
    "# Q5. Write a program to sort a list without using inbuilt functions (list.sort not allowed) \n",
    "\n",
    "# a)Using Bubble Sort Algorithm \n",
    "\n",
    "# b)Using Insertion Sort Algorithm  \n",
    "\n",
    "# c)Using Selection Sort Algorithm \n",
    "\n",
    "# Ans:- \n",
    "    \n",
    "# a)Using Bubble Sort Algorithm \n",
    "\n",
    "li=input(\"Enter the elements of list seperated by space: \").split()\n",
    "for i in range(len(li)):\n",
    "    li[i]=int(li[i])\n",
    "for i in range(len(li)-1):\n",
    "    for j in range(len(li)-1):\n",
    "        if(li[j]>li[j+1]):\n",
    "            temp=li[j]\n",
    "            li[j]=li[j+1]\n",
    "            li[j+1]=temp\n",
    "print(li)\n"
   ]
  },
  {
   "cell_type": "code",
   "execution_count": 7,
   "id": "87c91152",
   "metadata": {},
   "outputs": [
    {
     "name": "stdout",
     "output_type": "stream",
     "text": [
      "Enter the elements of list seperated by space: 2 4 6 8 1 3 5 7\n",
      "[1, 2, 3, 4, 5, 6, 7, 8]\n"
     ]
    }
   ],
   "source": [
    "# b) Using Insertion Sort Algorithm  \n",
    "\n",
    "array=input(\"Enter the elements of list seperated by space: \").split()\n",
    "for i in range(len(array)):\n",
    "    array[i]=int(array[i])\n",
    "for i in range(1, len(array)):\n",
    "    key = array[i]\n",
    "    j = i - 1\n",
    "    while j >= 0 and key < array[j]:\n",
    "        array[j + 1] = array[j]\n",
    "        j -= 1\n",
    "    array[j + 1] = key\n",
    "print(array)\n"
   ]
  },
  {
   "cell_type": "code",
   "execution_count": 8,
   "id": "efc61c4d",
   "metadata": {},
   "outputs": [
    {
     "name": "stdout",
     "output_type": "stream",
     "text": [
      "Enter the elements of list seperated by space: 2 5 8 9 4 6\n",
      "[2, 4, 5, 6, 8, 9]\n"
     ]
    }
   ],
   "source": [
    "# c)Using Selection Sort Algorithm\n",
    "\n",
    "li=input(\"Enter the elements of list seperated by space: \").split()\n",
    "for i in range(len(li)):\n",
    "    li[i]=int(li[i])\n",
    "for i in range(len(li)):\n",
    "    mini=i\n",
    "    for j in range(i+1,len(li)):\n",
    "        if(li[mini]>li[j]):\n",
    "            mini=j\n",
    "    (li[i], li[mini]) = (li[mini], li[i])\n",
    "print(li)\n"
   ]
  },
  {
   "cell_type": "code",
   "execution_count": null,
   "id": "5d8dbbba",
   "metadata": {},
   "outputs": [],
   "source": []
  }
 ],
 "metadata": {
  "kernelspec": {
   "display_name": "Python 3 (ipykernel)",
   "language": "python",
   "name": "python3"
  },
  "language_info": {
   "codemirror_mode": {
    "name": "ipython",
    "version": 3
   },
   "file_extension": ".py",
   "mimetype": "text/x-python",
   "name": "python",
   "nbconvert_exporter": "python",
   "pygments_lexer": "ipython3",
   "version": "3.10.9"
  }
 },
 "nbformat": 4,
 "nbformat_minor": 5
}
